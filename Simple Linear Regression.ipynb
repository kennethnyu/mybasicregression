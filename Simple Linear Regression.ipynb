{
 "cells": [
  {
   "cell_type": "markdown",
   "metadata": {},
   "source": [
    "<h1 align=\"center\">Simple Linear Regression</h1>"
   ]
  },
  {
   "cell_type": "markdown",
   "metadata": {},
   "source": [
    "![Image of City of Toronto](http://propertiesunlimited.ca/_media/Images/toronto-banner-1.jpg)"
   ]
  },
  {
   "cell_type": "markdown",
   "metadata": {},
   "source": [
    "The dataset is obtained from <a href=\"https://www.toronto.ca/city-government/data-research-maps/toronto-progress-portal/\">Toronto Progress Portal</a>."
   ]
  },
  {
   "cell_type": "markdown",
   "metadata": {},
   "source": [
    "# <font color=Red>1. Preparation</font>"
   ]
  },
  {
   "cell_type": "markdown",
   "metadata": {},
   "source": [
    "## <font color=Blue>1.1. Importing Modules</font>"
   ]
  },
  {
   "cell_type": "code",
   "execution_count": 122,
   "metadata": {},
   "outputs": [],
   "source": [
    "import matplotlib.pyplot as plt\n",
    "import numpy as np\n",
    "import pandas as pd\n",
    "import seaborn as sns; sns.set()\n",
    "from sklearn.linear_model import LinearRegression\n",
    "from sklearn.metrics import r2_score\n",
    "\n",
    "%matplotlib inline"
   ]
  },
  {
   "cell_type": "markdown",
   "metadata": {},
   "source": [
    "# <font color=Red>2. Exploring and Cleaning</font>"
   ]
  },
  {
   "cell_type": "markdown",
   "metadata": {},
   "source": [
    "## <font color=Blue>2.1. Loading</font>"
   ]
  },
  {
   "cell_type": "markdown",
   "metadata": {},
   "source": [
    "I will be loading the csv data with Pandas"
   ]
  },
  {
   "cell_type": "code",
   "execution_count": 24,
   "metadata": {},
   "outputs": [],
   "source": [
    "df=pd.read_csv(\"TorontoMeasureData.csv\")"
   ]
  },
  {
   "cell_type": "code",
   "execution_count": 162,
   "metadata": {
    "scrolled": true
   },
   "outputs": [
    {
     "name": "stdout",
     "output_type": "stream",
     "text": [
      "Previewing the first 5 and last 5 rows of the data by concatenating the head and the tail.\n"
     ]
    },
    {
     "data": {
      "text/html": [
       "<div>\n",
       "<style>\n",
       "    .dataframe thead tr:only-child th {\n",
       "        text-align: right;\n",
       "    }\n",
       "\n",
       "    .dataframe thead th {\n",
       "        text-align: left;\n",
       "    }\n",
       "\n",
       "    .dataframe tbody tr th {\n",
       "        vertical-align: top;\n",
       "    }\n",
       "</style>\n",
       "<table border=\"1\" class=\"dataframe\">\n",
       "  <thead>\n",
       "    <tr style=\"text-align: right;\">\n",
       "      <th></th>\n",
       "      <th>Measure Name</th>\n",
       "      <th>Year</th>\n",
       "      <th>Period</th>\n",
       "      <th>Value</th>\n",
       "    </tr>\n",
       "  </thead>\n",
       "  <tbody>\n",
       "    <tr>\n",
       "      <th>0</th>\n",
       "      <td>Number of Personal Bankruptcies (Ontario)</td>\n",
       "      <td>2007</td>\n",
       "      <td>Jan</td>\n",
       "      <td>2307.0</td>\n",
       "    </tr>\n",
       "    <tr>\n",
       "      <th>1</th>\n",
       "      <td>Number of Personal Bankruptcies (Ontario)</td>\n",
       "      <td>2007</td>\n",
       "      <td>Feb</td>\n",
       "      <td>2369.0</td>\n",
       "    </tr>\n",
       "    <tr>\n",
       "      <th>2</th>\n",
       "      <td>Number of Personal Bankruptcies (Ontario)</td>\n",
       "      <td>2007</td>\n",
       "      <td>Mar</td>\n",
       "      <td>2715.0</td>\n",
       "    </tr>\n",
       "    <tr>\n",
       "      <th>3</th>\n",
       "      <td>Number of Personal Bankruptcies (Ontario)</td>\n",
       "      <td>2007</td>\n",
       "      <td>Apr</td>\n",
       "      <td>2651.0</td>\n",
       "    </tr>\n",
       "    <tr>\n",
       "      <th>4</th>\n",
       "      <td>Number of Personal Bankruptcies (Ontario)</td>\n",
       "      <td>2007</td>\n",
       "      <td>May</td>\n",
       "      <td>2931.0</td>\n",
       "    </tr>\n",
       "    <tr>\n",
       "      <th>6296</th>\n",
       "      <td>Libraries Circulation of Materials</td>\n",
       "      <td>2016</td>\n",
       "      <td>Q3</td>\n",
       "      <td>8120345.0</td>\n",
       "    </tr>\n",
       "    <tr>\n",
       "      <th>6297</th>\n",
       "      <td>Libraries Circulation of Materials</td>\n",
       "      <td>2016</td>\n",
       "      <td>Q4</td>\n",
       "      <td>7588610.0</td>\n",
       "    </tr>\n",
       "    <tr>\n",
       "      <th>6298</th>\n",
       "      <td>Libraries Circulation of Materials</td>\n",
       "      <td>2017</td>\n",
       "      <td>Q1</td>\n",
       "      <td>7531041.0</td>\n",
       "    </tr>\n",
       "    <tr>\n",
       "      <th>6299</th>\n",
       "      <td>Libraries Circulation of Materials</td>\n",
       "      <td>2017</td>\n",
       "      <td>Q2</td>\n",
       "      <td>7420675.0</td>\n",
       "    </tr>\n",
       "    <tr>\n",
       "      <th>6300</th>\n",
       "      <td>Libraries Circulation of Materials</td>\n",
       "      <td>2017</td>\n",
       "      <td>Q3</td>\n",
       "      <td>7858823.0</td>\n",
       "    </tr>\n",
       "  </tbody>\n",
       "</table>\n",
       "</div>"
      ],
      "text/plain": [
       "                                   Measure Name  Year Period      Value\n",
       "0     Number of Personal Bankruptcies (Ontario)  2007    Jan     2307.0\n",
       "1     Number of Personal Bankruptcies (Ontario)  2007    Feb     2369.0\n",
       "2     Number of Personal Bankruptcies (Ontario)  2007    Mar     2715.0\n",
       "3     Number of Personal Bankruptcies (Ontario)  2007    Apr     2651.0\n",
       "4     Number of Personal Bankruptcies (Ontario)  2007    May     2931.0\n",
       "6296        Libraries Circulation of Materials   2016     Q3  8120345.0\n",
       "6297        Libraries Circulation of Materials   2016     Q4  7588610.0\n",
       "6298        Libraries Circulation of Materials   2017     Q1  7531041.0\n",
       "6299        Libraries Circulation of Materials   2017     Q2  7420675.0\n",
       "6300        Libraries Circulation of Materials   2017     Q3  7858823.0"
      ]
     },
     "execution_count": 162,
     "metadata": {},
     "output_type": "execute_result"
    }
   ],
   "source": [
    "print(\"Previewing the first 5 and last 5 rows of the data by concatenating the head and the tail.\")\n",
    "pd.concat([df.head(), df.tail()])"
   ]
  },
  {
   "cell_type": "markdown",
   "metadata": {},
   "source": [
    "Let us look at the individual columns."
   ]
  },
  {
   "cell_type": "code",
   "execution_count": 45,
   "metadata": {},
   "outputs": [
    {
     "name": "stdout",
     "output_type": "stream",
     "text": [
      "Measure Name: 69 unique values\n",
      "Year: 16 unique values\n",
      "Period: 22 unique values\n",
      "Value: 5247 unique values\n"
     ]
    }
   ],
   "source": [
    "for column in df.columns:\n",
    "    print(column+\":\", len(df[column].unique()), \"unique values\")"
   ]
  },
  {
   "cell_type": "code",
   "execution_count": 58,
   "metadata": {},
   "outputs": [
    {
     "name": "stdout",
     "output_type": "stream",
     "text": [
      "The Year column has 16 unique values which ranges from 2003 to 2018\n"
     ]
    }
   ],
   "source": [
    "print(\"The Year column has {} unique values which ranges from {} to {}\".format(len(df[\"Year\"].unique()), \n",
    "                                                                        df[\"Year\"].unique().min(), \n",
    "                                                                        df[\"Year\"].unique().max()))"
   ]
  },
  {
   "cell_type": "code",
   "execution_count": 59,
   "metadata": {},
   "outputs": [
    {
     "name": "stdout",
     "output_type": "stream",
     "text": [
      "['Jan' 'Feb' 'Mar' 'Apr' 'May' 'Jun' 'Jul' 'Aug' 'Sep' 'Oct' 'Nov' 'Dec'\n",
      " 'Q1' 'Q2' 'Q3' 'Q4' 'Q12' nan 'Winter' 'Spring' 'Summer' 'Fall']\n"
     ]
    }
   ],
   "source": [
    "print(df[\"Period\"].unique())"
   ]
  },
  {
   "cell_type": "markdown",
   "metadata": {},
   "source": [
    "The period column values vary from the months of January to December, the 4 quarters, as well as the 4 seasons."
   ]
  },
  {
   "cell_type": "markdown",
   "metadata": {},
   "source": [
    "Let us take a look at all the measures."
   ]
  },
  {
   "cell_type": "code",
   "execution_count": 140,
   "metadata": {},
   "outputs": [
    {
     "name": "stdout",
     "output_type": "stream",
     "text": [
      "Number of Personal Bankruptcies (Ontario)\n",
      "Percentage of Ontario Residential Mortgages (in Arrears 3 months or more)\n",
      "Food Bank Usage \n",
      "Size of Waiting List for Social Housing (Total Number) \n",
      "Number of Rent Bank Loans Granted \n",
      "Shelter Use Singles (Average Individual Per Night) \n",
      "Shelter Use Families (Average Individuals Per Night) \n",
      "Child Care Number of Children on Wait list for a Child Care Fee Subsidy\n",
      "Crime Total Number of Incidents (in 7 Crime Categories)\n",
      "Crime Number of Murders \n",
      "Crime Number of Sexual Assaults \n",
      "Crime Number of Assaults \n",
      "Crime Number of Robberies \n",
      "Crime Number of Break and Enters \n",
      "Crime Number of Auto Thefts \n",
      "Crime Number of Thefts Over $5000 \n",
      "Community Planning Number of Applications \n",
      "Committee of Adjustment Number of Applications \n",
      "Construction Value of Building Permits Issued (All Types)\n",
      "Construction Value of Building Applications Received (All Types)\n",
      "Construction Value of Building Permits Issued (Residential)\n",
      "Construction Value of Building Applications Received (Residential)\n",
      "Construction Value of Building Permits Issued (Industrial Commercial & Institutional)\n",
      "Construction Value of Building Applications Received- Industrial Commercial & Institutional \n",
      "Employment Rate (Toronto Residents)\n",
      "Unemployment Rate (Toronto Residents)\n",
      "Participation Rate (Toronto Residents) \n",
      "Employed City of Toronto Residents (000's)\n",
      "Average Weekly Hours Worked (Toronto Residents)\n",
      "Percentage who are Self-Employed (Toronto Residents)\n",
      "Retail Sales - Toronto CMA (CAD) \n",
      "Percentage of Vacant Office Space \n",
      "Percentage of Vacant Industrial Space\n",
      "Ontario Product Exports to U.S. (CAD) \n",
      "Number of Employment Insurance (E.I.) Beneficiaries \n",
      "Number of Business Bankruptcies (Ontario) \n",
      "Average Home Price (City of Toronto)\n",
      "Number of Home Sales (City of Toronto)\n",
      "CPI - Consumer Price Index - Toronto (% Change)\n",
      "Number of Business Licences Renewed \n",
      "Number of New Business Licences Issued \n",
      "HR Number of Job Applications Received per External Advertisement \n",
      "HR Number of Summer Job Applications Received per Summer Job Opportunity on Web \n",
      "HR Total General Job Applications Submitted On-Line\n",
      "Interest on Outstanding Property Tax Accounts\n",
      "TTC Ridership Revenues\n",
      "Water Revenues Billed for all Water Customers\n",
      "Revenue from Land Transfer Tax\n",
      "Fees Generated by Planning Applications\n",
      "Fees generated by Building Permits\n",
      "POA Fine Revenue\n",
      "Revenue from Sale of Recycled Materials\n",
      "Number of Water Accounts Added to Tax Roll for Collection \n",
      "Monthly Increase (Decrease) in Number of POA Accounts for Collection in Default (Past Due Date)\n",
      "TTC Average Weekday Ridership\n",
      "TTC Annual Passenger Rides Peak (000s)\n",
      "TTC Annual Passenger Rides Non-Peak (000s)\n",
      "TTC Monthly Ridership\n",
      "Child Care Number of Licensed Child Care Spaces \n",
      "Sports and Recreation -Registered Program Enrolment (#)\n",
      "Sports and Recreation - Drop-in Program Attendance (#)\n",
      "Sports and Recreation - Permit Activity - Number of Bookings\n",
      "Sports and Recreation -Permit Activity - Number of Hours Booked\n",
      "Community Centres Where Programs Are Free - Registered Program Enrollment (#)\n",
      "Community Centres Where Programs Are Free - Drop-in Attendance(#)\n",
      "Libraries Number of Library Visits \n",
      "Libraries Electronic Workstation and Wireless Use\n",
      "Libraries Standard and Electronic Reference Transactions \n",
      "Libraries Circulation of Materials \n"
     ]
    }
   ],
   "source": [
    "for item in df[\"Measure Name\"].unique():\n",
    "    print(item)"
   ]
  },
  {
   "cell_type": "markdown",
   "metadata": {},
   "source": [
    "# <font color=Red>3. Two Examples of Linear Regression</font>"
   ]
  },
  {
   "cell_type": "markdown",
   "metadata": {},
   "source": [
    "## <font color=Blue>3.1. Crimes vs Unemployment Rate</font>"
   ]
  },
  {
   "cell_type": "code",
   "execution_count": 155,
   "metadata": {},
   "outputs": [],
   "source": [
    "# Slicing the dataframe for crime, renaming the long column name to a shorter one\n",
    "crime=df[df[\"Measure Name\"] == \"Crime Total Number of Incidents (in 7 Crime Categories)\"][[\"Year\", \"Period\", \"Value\"]]\n",
    "crime.rename(columns = {'Value':'crimes'}, inplace = True)\n",
    "# Adds a shorter \"time\" variable to merge on\n",
    "crime[\"Time\"] = crime[\"Year\"].apply(str) + crime[\"Period\"]\n",
    "crime=crime.drop([\"Year\", \"Period\"], axis=1)\n",
    "\n",
    "# Slicing the dataframe for unemployment rate, renaming the long column name to a shorter one\n",
    "unemp=df[df[\"Measure Name\"] == \"Unemployment Rate (Toronto Residents)\"][[\"Year\", \"Period\", \"Value\"]]\n",
    "unemp.rename(columns = {'Value':'unemprates'}, inplace = True)\n",
    "# Adds a shorter \"time\" variable to merge on\n",
    "unemp[\"Time\"] = unemp[\"Year\"].apply(str) + unemp[\"Period\"]\n",
    "unemp=unemp.drop([\"Year\", \"Period\"], axis=1)"
   ]
  },
  {
   "cell_type": "code",
   "execution_count": 156,
   "metadata": {},
   "outputs": [],
   "source": [
    "# Merges the two dataframe on the \"time\" variable\n",
    "df1=pd.merge(crime, unemp, how=\"inner\", on=\"Time\")"
   ]
  },
  {
   "cell_type": "code",
   "execution_count": 161,
   "metadata": {},
   "outputs": [
    {
     "name": "stdout",
     "output_type": "stream",
     "text": [
      "R squared:       0.0403077780476\n"
     ]
    },
    {
     "data": {
      "image/png": "[encoded data removed]",
      "text/plain": [
       "<matplotlib.figure.Figure at 0x201880c92e8>"
      ]
     },
     "metadata": {},
     "output_type": "display_data"
    }
   ],
   "source": [
    "# Plots the scatter plot\n",
    "x1=df1[\"unemprates\"]\n",
    "y1=df1[\"crimes\"]\n",
    "plt.figure(figsize=(8,6))\n",
    "plt.scatter(x1,y1)\n",
    "plt.xlabel(\"Unemployment rate (%)\")\n",
    "plt.ylabel(\"Crime Incidents\")\n",
    "\n",
    "# Fits a linear regression model\n",
    "model1=LinearRegression(fit_intercept=True)\n",
    "model1.fit(x1[:, np.newaxis],y1)\n",
    "\n",
    "# Predicts and plots the line fit\n",
    "x1fit=np.linspace(df1[\"unemprates\"].min(),df1[\"unemprates\"].max(),10000)\n",
    "y1fit=model1.predict(x1[:, np.newaxis])\n",
    "plt.plot(x1, y1fit)\n",
    "print(\"R squared:      \", r2_score(y1, y1fit))"
   ]
  },
  {
   "cell_type": "markdown",
   "metadata": {},
   "source": [
    "My hypothesis was that there would be <u><b>weak to moderate positive correlation</b></u> for the data since higher unemployment rate would force people to do unlawful things. Apparently it is not so in Toronto, there seems to be <u><b>no correlation</b></u> at all. Obviously this is not a perfect model, in fact, it is a very simple one. When I revisit this dataset at a future date, I will factor in Time-series and check out Ridge Regression and Lasso but for now, I am keeping the notebook to a very minimum."
   ]
  },
  {
   "cell_type": "markdown",
   "metadata": {},
   "source": [
    "## <font color=Blue>3.2. Crimes vs Business Bankruptcies</font>"
   ]
  },
  {
   "cell_type": "code",
   "execution_count": 150,
   "metadata": {},
   "outputs": [],
   "source": [
    "# Slicing the dataframe for crime, renaming the long column name to a shorter one\n",
    "crime=df[df[\"Measure Name\"] == \"Crime Total Number of Incidents (in 7 Crime Categories)\"][[\"Year\", \"Period\", \"Value\"]]\n",
    "crime.rename(columns = {'Value':'crimes'}, inplace = True)\n",
    "# Adds a shorter \"time\" variable to merge on\n",
    "crime[\"Time\"] = crime[\"Year\"].apply(str) + crime[\"Period\"]\n",
    "crime=crime.drop([\"Year\", \"Period\"], axis=1)\n",
    "\n",
    "# Slicing the dataframe for unemployment rate, renaming the long column name to a shorter one\n",
    "bnkrpt=df[df[\"Measure Name\"] == \"Number of Business Bankruptcies (Ontario) \"][[\"Year\", \"Period\", \"Value\"]]\n",
    "bnkrpt.rename(columns = {'Value':'bsnsbnkrpt'}, inplace = True)\n",
    "# Adds a shorter \"time\" variable to merge on\n",
    "bnkrpt[\"Time\"] = bnkrpt[\"Year\"].apply(str) + bnkrpt[\"Period\"]\n",
    "bnkrpt=bnkrpt.drop([\"Year\", \"Period\"], axis=1)"
   ]
  },
  {
   "cell_type": "code",
   "execution_count": 151,
   "metadata": {},
   "outputs": [],
   "source": [
    "# Merges the two dataframe on the \"time\" variable\n",
    "df2=pd.merge(crime, bnkrpt, how=\"inner\", on=\"Time\")"
   ]
  },
  {
   "cell_type": "code",
   "execution_count": 160,
   "metadata": {},
   "outputs": [
    {
     "name": "stdout",
     "output_type": "stream",
     "text": [
      "R squared:       0.484124883263\n",
      "Model slope:     4.03980426687\n",
      "Model intercept: 2629.09569423\n"
     ]
    },
    {
     "data": {
      "image/png": "[encoded data removed]",
      "text/plain": [
       "<matplotlib.figure.Figure at 0x20186548588>"
      ]
     },
     "metadata": {},
     "output_type": "display_data"
    }
   ],
   "source": [
    "# Plots the scatter plot\n",
    "x2=df2[\"bsnsbnkrpt\"]\n",
    "y2=df2[\"crimes\"]\n",
    "plt.figure(figsize=(8,6))\n",
    "plt.scatter(x2,y2)\n",
    "plt.xlabel(\"Business Bankruptcies\")\n",
    "plt.ylabel(\"Crime Incidents\")\n",
    "\n",
    "# Fits a linear regression model\n",
    "model2=LinearRegression(fit_intercept=True)\n",
    "model2.fit(x2[:, np.newaxis],y2)\n",
    "\n",
    "# Predicts and plots the line fit\n",
    "x2fit=np.linspace(df2[\"bsnsbnkrpt\"].min(),df2[\"bsnsbnkrpt\"].max(),10000)\n",
    "y2fit=model2.predict(x2[:, np.newaxis])\n",
    "plt.plot(x2, y2fit)\n",
    "print(\"R squared:      \", r2_score(y2, y2fit))\n",
    "print(\"Model slope:    \", model2.coef_[0])\n",
    "print(\"Model intercept:\", model2.intercept_)"
   ]
  },
  {
   "cell_type": "markdown",
   "metadata": {},
   "source": [
    "As I saw the measure of \"Business Bankruptcies\", I thought that it would have a moderate positive correlation with both unemployment rates and crime incidents. I tested the model of business bankruptcies as independent variable and the crime incidents as the dependent variable. The model with R-squared value of 0.48 and slope of approximately 4 seems to point to moderate positive correlation."
   ]
  },
  {
   "cell_type": "markdown",
   "metadata": {},
   "source": [
    "I am very curious as to how the measures relate to one another: correlation & multicollinearity. Unfortunately I am on a time constraint at the moment, if you have any suggestions, let me know via email!"
   ]
  },
  {
   "cell_type": "code",
   "execution_count": null,
   "metadata": {},
   "outputs": [],
   "source": []
  }
 ],
 "metadata": {
  "kernelspec": {
   "display_name": "Python 3",
   "language": "python",
   "name": "python3"
  },
  "language_info": {
   "codemirror_mode": {
    "name": "ipython",
    "version": 3
   },
   "file_extension": ".py",
   "mimetype": "text/x-python",
   "name": "python",
   "nbconvert_exporter": "python",
   "pygments_lexer": "ipython3",
   "version": "3.6.3"
  }
 },
 "nbformat": 4,
 "nbformat_minor": 2
}
