{
 "cells": [
  {
   "cell_type": "markdown",
   "metadata": {},
   "source": [
    "<h1 align=\"center\">Simple Linear Regression</h1>"
   ]
  },
  {
   "cell_type": "markdown",
   "metadata": {},
   "source": [
    "![Image of City of Toronto](http://propertiesunlimited.ca/_media/Images/toronto-banner-1.jpg)"
   ]
  },
  {
   "cell_type": "markdown",
   "metadata": {},
   "source": [
    "# Table of Contents.\n",
    "<list>\n",
    "    <ul><a href=#1>1. Preparation</a></ul>\n",
    "    <ul><a href=#2>2. Exploring and Cleaning</a></ul>\n",
    "    <ul><a href=#3>3. Linear Regression</a></ul>\n",
    "</list>"
   ]
  },
  {
   "cell_type": "markdown",
   "metadata": {},
   "source": [
    "The dataset is obtained from <a href=\"https://www.toronto.ca/city-government/data-research-maps/toronto-progress-portal/\">Toronto Progress Portal</a>."
   ]
  },
  {
   "cell_type": "markdown",
   "metadata": {},
   "source": [
    "<a id=1></a>"
   ]
  },
  {
   "cell_type": "markdown",
   "metadata": {},
   "source": [
    "# <font color=Red>1. Preparation</font>"
   ]
  },
  {
   "cell_type": "markdown",
   "metadata": {},
   "source": [
    "## <font color=Blue>1.1. Importing Modules</font>"
   ]
  },
  {
   "cell_type": "code",
   "execution_count": 14,
   "metadata": {},
   "outputs": [],
   "source": [
    "import numpy as np\n",
    "import pandas as pd"
   ]
  },
  {
   "cell_type": "code",
   "execution_count": 15,
   "metadata": {},
   "outputs": [],
   "source": [
    "import matplotlib.pyplot as plt\n",
    "import seaborn as sns; sns.set()\n",
    "%matplotlib inline"
   ]
  },
  {
   "cell_type": "code",
   "execution_count": 256,
   "metadata": {},
   "outputs": [],
   "source": [
    "from sklearn import metrics\n",
    "from sklearn.linear_model import LinearRegression\n",
    "from sklearn.metrics import r2_score\n",
    "from sklearn.model_selection import train_test_split\n",
    "from sklearn.pipeline import make_pipeline\n",
    "from sklearn.preprocessing import StandardScaler, PolynomialFeatures\n"
   ]
  },
  {
   "cell_type": "code",
   "execution_count": null,
   "metadata": {},
   "outputs": [],
   "source": [
    "from sklearn.preprocessing import PolynomialFeatures\n",
    "from sklearn.linear_model import LinearRegression\n",
    "\n",
    "\n"
   ]
  },
  {
   "cell_type": "markdown",
   "metadata": {},
   "source": [
    "<a id=2></a>"
   ]
  },
  {
   "cell_type": "markdown",
   "metadata": {},
   "source": [
    "# <font color=Red>2. Exploring and Cleaning</font>"
   ]
  },
  {
   "cell_type": "markdown",
   "metadata": {},
   "source": [
    "## <font color=Blue>2.1. Loading</font>"
   ]
  },
  {
   "cell_type": "markdown",
   "metadata": {},
   "source": [
    "I will be loading the csv data with Pandas"
   ]
  },
  {
   "cell_type": "code",
   "execution_count": 17,
   "metadata": {},
   "outputs": [],
   "source": [
    "df=pd.read_csv(\"TorontoMeasureData.csv\")"
   ]
  },
  {
   "cell_type": "markdown",
   "metadata": {},
   "source": [
    "## <font color=Blue>2.2. Exploring</font>"
   ]
  },
  {
   "cell_type": "code",
   "execution_count": 18,
   "metadata": {
    "scrolled": true
   },
   "outputs": [
    {
     "name": "stdout",
     "output_type": "stream",
     "text": [
      "Previewing the first 5 and last 5 rows of the data by concatenating the head and the tail.\n"
     ]
    },
    {
     "data": {
      "text/html": [
       "<div>\n",
       "<style>\n",
       "    .dataframe thead tr:only-child th {\n",
       "        text-align: right;\n",
       "    }\n",
       "\n",
       "    .dataframe thead th {\n",
       "        text-align: left;\n",
       "    }\n",
       "\n",
       "    .dataframe tbody tr th {\n",
       "        vertical-align: top;\n",
       "    }\n",
       "</style>\n",
       "<table border=\"1\" class=\"dataframe\">\n",
       "  <thead>\n",
       "    <tr style=\"text-align: right;\">\n",
       "      <th></th>\n",
       "      <th>Measure Name</th>\n",
       "      <th>Year</th>\n",
       "      <th>Period</th>\n",
       "      <th>Value</th>\n",
       "    </tr>\n",
       "  </thead>\n",
       "  <tbody>\n",
       "    <tr>\n",
       "      <th>0</th>\n",
       "      <td>Number of Personal Bankruptcies (Ontario)</td>\n",
       "      <td>2007</td>\n",
       "      <td>Jan</td>\n",
       "      <td>2307.0</td>\n",
       "    </tr>\n",
       "    <tr>\n",
       "      <th>1</th>\n",
       "      <td>Number of Personal Bankruptcies (Ontario)</td>\n",
       "      <td>2007</td>\n",
       "      <td>Feb</td>\n",
       "      <td>2369.0</td>\n",
       "    </tr>\n",
       "    <tr>\n",
       "      <th>2</th>\n",
       "      <td>Number of Personal Bankruptcies (Ontario)</td>\n",
       "      <td>2007</td>\n",
       "      <td>Mar</td>\n",
       "      <td>2715.0</td>\n",
       "    </tr>\n",
       "    <tr>\n",
       "      <th>3</th>\n",
       "      <td>Number of Personal Bankruptcies (Ontario)</td>\n",
       "      <td>2007</td>\n",
       "      <td>Apr</td>\n",
       "      <td>2651.0</td>\n",
       "    </tr>\n",
       "    <tr>\n",
       "      <th>4</th>\n",
       "      <td>Number of Personal Bankruptcies (Ontario)</td>\n",
       "      <td>2007</td>\n",
       "      <td>May</td>\n",
       "      <td>2931.0</td>\n",
       "    </tr>\n",
       "    <tr>\n",
       "      <th>6296</th>\n",
       "      <td>Libraries Circulation of Materials</td>\n",
       "      <td>2016</td>\n",
       "      <td>Q3</td>\n",
       "      <td>8120345.0</td>\n",
       "    </tr>\n",
       "    <tr>\n",
       "      <th>6297</th>\n",
       "      <td>Libraries Circulation of Materials</td>\n",
       "      <td>2016</td>\n",
       "      <td>Q4</td>\n",
       "      <td>7588610.0</td>\n",
       "    </tr>\n",
       "    <tr>\n",
       "      <th>6298</th>\n",
       "      <td>Libraries Circulation of Materials</td>\n",
       "      <td>2017</td>\n",
       "      <td>Q1</td>\n",
       "      <td>7531041.0</td>\n",
       "    </tr>\n",
       "    <tr>\n",
       "      <th>6299</th>\n",
       "      <td>Libraries Circulation of Materials</td>\n",
       "      <td>2017</td>\n",
       "      <td>Q2</td>\n",
       "      <td>7420675.0</td>\n",
       "    </tr>\n",
       "    <tr>\n",
       "      <th>6300</th>\n",
       "      <td>Libraries Circulation of Materials</td>\n",
       "      <td>2017</td>\n",
       "      <td>Q3</td>\n",
       "      <td>7858823.0</td>\n",
       "    </tr>\n",
       "  </tbody>\n",
       "</table>\n",
       "</div>"
      ],
      "text/plain": [
       "                                   Measure Name  Year Period      Value\n",
       "0     Number of Personal Bankruptcies (Ontario)  2007    Jan     2307.0\n",
       "1     Number of Personal Bankruptcies (Ontario)  2007    Feb     2369.0\n",
       "2     Number of Personal Bankruptcies (Ontario)  2007    Mar     2715.0\n",
       "3     Number of Personal Bankruptcies (Ontario)  2007    Apr     2651.0\n",
       "4     Number of Personal Bankruptcies (Ontario)  2007    May     2931.0\n",
       "6296        Libraries Circulation of Materials   2016     Q3  8120345.0\n",
       "6297        Libraries Circulation of Materials   2016     Q4  7588610.0\n",
       "6298        Libraries Circulation of Materials   2017     Q1  7531041.0\n",
       "6299        Libraries Circulation of Materials   2017     Q2  7420675.0\n",
       "6300        Libraries Circulation of Materials   2017     Q3  7858823.0"
      ]
     },
     "execution_count": 18,
     "metadata": {},
     "output_type": "execute_result"
    }
   ],
   "source": [
    "print(\"Previewing the first 5 and last 5 rows of the data by concatenating the head and the tail.\")\n",
    "pd.concat([df.head(), df.tail()])"
   ]
  },
  {
   "cell_type": "markdown",
   "metadata": {},
   "source": [
    "Let us look at the individual columns."
   ]
  },
  {
   "cell_type": "code",
   "execution_count": 19,
   "metadata": {},
   "outputs": [
    {
     "name": "stdout",
     "output_type": "stream",
     "text": [
      "Measure Name: 69 unique values\n",
      "Year: 16 unique values\n",
      "Period: 22 unique values\n",
      "Value: 5247 unique values\n"
     ]
    }
   ],
   "source": [
    "for column in df.columns:\n",
    "    print(column+\":\", len(df[column].unique()), \"unique values\")"
   ]
  },
  {
   "cell_type": "code",
   "execution_count": 20,
   "metadata": {},
   "outputs": [
    {
     "name": "stdout",
     "output_type": "stream",
     "text": [
      "The Year column has 16 unique values which ranges from 2003 to 2018\n"
     ]
    }
   ],
   "source": [
    "print(\"The Year column has {} unique values which ranges from {} to {}\".format(len(df[\"Year\"].unique()), \n",
    "                                                                        df[\"Year\"].unique().min(), \n",
    "                                                                        df[\"Year\"].unique().max()))"
   ]
  },
  {
   "cell_type": "code",
   "execution_count": 21,
   "metadata": {},
   "outputs": [
    {
     "name": "stdout",
     "output_type": "stream",
     "text": [
      "['Jan' 'Feb' 'Mar' 'Apr' 'May' 'Jun' 'Jul' 'Aug' 'Sep' 'Oct' 'Nov' 'Dec'\n",
      " 'Q1' 'Q2' 'Q3' 'Q4' 'Q12' nan 'Winter' 'Spring' 'Summer' 'Fall']\n"
     ]
    }
   ],
   "source": [
    "print(df[\"Period\"].unique())"
   ]
  },
  {
   "cell_type": "markdown",
   "metadata": {},
   "source": [
    "The period column values vary from the months of January to December, the 4 quarters, as well as the 4 seasons."
   ]
  },
  {
   "cell_type": "markdown",
   "metadata": {},
   "source": [
    "## <font color=Blue>2.3. Pivoting</font>"
   ]
  },
  {
   "cell_type": "markdown",
   "metadata": {},
   "source": [
    "We will be pivoting the data based on the time period. Let us explore the total counts."
   ]
  },
  {
   "cell_type": "code",
   "execution_count": 22,
   "metadata": {},
   "outputs": [
    {
     "data": {
      "text/plain": [
       "Feb       455\n",
       "Jan       455\n",
       "Mar       455\n",
       "Apr       455\n",
       "May       455\n",
       "Jun       449\n",
       "Jul       444\n",
       "Sep       438\n",
       "Aug       438\n",
       "Oct       416\n",
       "Nov       413\n",
       "Dec       411\n",
       "Q1        188\n",
       "Q2        187\n",
       "Q3        184\n",
       "Q4        170\n",
       "Winter     66\n",
       "Summer     66\n",
       "Spring     66\n",
       "Fall       60\n",
       "Q12         2\n",
       "Name: Period, dtype: int64"
      ]
     },
     "execution_count": 22,
     "metadata": {},
     "output_type": "execute_result"
    }
   ],
   "source": [
    "df[\"Period\"].value_counts()"
   ]
  },
  {
   "cell_type": "markdown",
   "metadata": {},
   "source": [
    "I will filter the data based on the months. It is possible to aggregate Jan, Feb and Apr into Q1 but the volume of 188 Q1 data points is miniscule compared the sheer 455 counts of January itself."
   ]
  },
  {
   "cell_type": "code",
   "execution_count": 139,
   "metadata": {},
   "outputs": [
    {
     "name": "stdout",
     "output_type": "stream",
     "text": [
      "<class 'pandas.core.frame.DataFrame'>\n",
      "Index: 131 entries, 2007 Apr to 2017 Sep\n",
      "Data columns (total 44 columns):\n",
      "Average Home Price (City of Toronto)                                                               102 non-null float64\n",
      "Average Weekly Hours Worked (Toronto Residents)                                                    127 non-null float64\n",
      "CPI - Consumer Price Index - Toronto (% Change)                                                    114 non-null float64\n",
      "Child Care Number of Children on Wait list for a Child Care Fee Subsidy                            130 non-null float64\n",
      "Child Care Number of Licensed Child Care Spaces                                                    58 non-null float64\n",
      "Construction Value of Building Applications Received (All Types)                                   129 non-null float64\n",
      "Construction Value of Building Applications Received (Residential)                                 130 non-null float64\n",
      "Construction Value of Building Applications Received- Industrial Commercial & Institutional        129 non-null float64\n",
      "Construction Value of Building Permits Issued (All Types)                                          129 non-null float64\n",
      "Construction Value of Building Permits Issued (Industrial Commercial & Institutional)              129 non-null float64\n",
      "Construction Value of Building Permits Issued (Residential)                                        129 non-null float64\n",
      "Crime Number of Assaults                                                                           105 non-null float64\n",
      "Crime Number of Auto Thefts                                                                        105 non-null float64\n",
      "Crime Number of Break and Enters                                                                   105 non-null float64\n",
      "Crime Number of Murders                                                                            105 non-null float64\n",
      "Crime Number of Robberies                                                                          105 non-null float64\n",
      "Crime Number of Sexual Assaults                                                                    105 non-null float64\n",
      "Crime Number of Thefts Over $5000                                                                  105 non-null float64\n",
      "Crime Total Number of Incidents (in 7 Crime Categories)                                            129 non-null float64\n",
      "Employed City of Toronto Residents (000's)                                                         127 non-null float64\n",
      "Employment Rate (Toronto Residents)                                                                127 non-null float64\n",
      "Food Bank Usage                                                                                    129 non-null float64\n",
      "Interest on Outstanding Property Tax Accounts                                                      129 non-null float64\n",
      "Monthly Increase (Decrease) in Number of POA Accounts for Collection in Default (Past Due Date)    127 non-null float64\n",
      "Number of Business Bankruptcies (Ontario)                                                          125 non-null float64\n",
      "Number of Business Licences Renewed                                                                131 non-null float64\n",
      "Number of Employment Insurance (E.I.) Beneficiaries                                                125 non-null float64\n",
      "Number of Home Sales (City of Toronto)                                                             102 non-null float64\n",
      "Number of New Business Licences Issued                                                             131 non-null float64\n",
      "Number of Personal Bankruptcies (Ontario)                                                          125 non-null float64\n",
      "Number of Water Accounts Added to Tax Roll for Collection                                          129 non-null float64\n",
      "Ontario Product Exports to U.S. (CAD)                                                              126 non-null float64\n",
      "POA Fine Revenue                                                                                   114 non-null float64\n",
      "Participation Rate (Toronto Residents)                                                             127 non-null float64\n",
      "Percentage of Ontario Residential Mortgages (in Arrears 3 months or more)                          125 non-null float64\n",
      "Percentage who are Self-Employed (Toronto Residents)                                               125 non-null float64\n",
      "Retail Sales - Toronto CMA (CAD)                                                                   125 non-null float64\n",
      "Revenue from Land Transfer Tax                                                                     105 non-null float64\n",
      "Revenue from Sale of Recycled Materials                                                            129 non-null float64\n",
      "TTC Average Weekday Ridership                                                                      129 non-null float64\n",
      "TTC Monthly Ridership                                                                              117 non-null float64\n",
      "TTC Ridership Revenues                                                                             129 non-null float64\n",
      "Unemployment Rate (Toronto Residents)                                                              127 non-null float64\n",
      "Water Revenues Billed for all Water Customers                                                      129 non-null float64\n",
      "dtypes: float64(44)\n",
      "memory usage: 46.1+ KB\n"
     ]
    }
   ],
   "source": [
    "# Filtering by the 12 months from Jan to Dec\n",
    "df[\"Time\"] = df[\"Year\"].apply(str) + \" \" + df[\"Period\"]\n",
    "df1=df[df[\"Period\"].isin(df[\"Period\"].value_counts()[:12].index)].pivot(index=\"Time\", columns=\"Measure Name\", values=\"Value\")\n",
    "df1.info()"
   ]
  },
  {
   "cell_type": "code",
   "execution_count": 140,
   "metadata": {
    "scrolled": false
   },
   "outputs": [],
   "source": [
    "# Forward filling and then back filling missing values\n",
    "df1=df1.fillna(method=\"ffill\").fillna(method=\"bfill\")"
   ]
  },
  {
   "cell_type": "code",
   "execution_count": null,
   "metadata": {},
   "outputs": [],
   "source": []
  },
  {
   "cell_type": "code",
   "execution_count": 254,
   "metadata": {},
   "outputs": [
    {
     "data": {
      "text/html": [
       "<div>\n",
       "<style>\n",
       "    .dataframe thead tr:only-child th {\n",
       "        text-align: right;\n",
       "    }\n",
       "\n",
       "    .dataframe thead th {\n",
       "        text-align: left;\n",
       "    }\n",
       "\n",
       "    .dataframe tbody tr th {\n",
       "        vertical-align: top;\n",
       "    }\n",
       "</style>\n",
       "<table border=\"1\" class=\"dataframe\">\n",
       "  <thead>\n",
       "    <tr style=\"text-align: right;\">\n",
       "      <th>Measure Name</th>\n",
       "      <th>Average Home Price (City of Toronto)</th>\n",
       "      <th>Average Weekly Hours Worked (Toronto Residents)</th>\n",
       "      <th>CPI - Consumer Price Index - Toronto (% Change)</th>\n",
       "      <th>Child Care Number of Children on Wait list for a Child Care Fee Subsidy</th>\n",
       "      <th>Child Care Number of Licensed Child Care Spaces</th>\n",
       "      <th>Construction Value of Building Applications Received (All Types)</th>\n",
       "      <th>Construction Value of Building Applications Received (Residential)</th>\n",
       "      <th>Construction Value of Building Applications Received- Industrial Commercial &amp; Institutional</th>\n",
       "      <th>Construction Value of Building Permits Issued (All Types)</th>\n",
       "      <th>Construction Value of Building Permits Issued (Industrial Commercial &amp; Institutional)</th>\n",
       "      <th>...</th>\n",
       "      <th>Percentage of Ontario Residential Mortgages (in Arrears 3 months or more)</th>\n",
       "      <th>Percentage who are Self-Employed (Toronto Residents)</th>\n",
       "      <th>Retail Sales - Toronto CMA (CAD)</th>\n",
       "      <th>Revenue from Land Transfer Tax</th>\n",
       "      <th>Revenue from Sale of Recycled Materials</th>\n",
       "      <th>TTC Average Weekday Ridership</th>\n",
       "      <th>TTC Monthly Ridership</th>\n",
       "      <th>TTC Ridership Revenues</th>\n",
       "      <th>Unemployment Rate (Toronto Residents)</th>\n",
       "      <th>Water Revenues Billed for all Water Customers</th>\n",
       "    </tr>\n",
       "    <tr>\n",
       "      <th>Time</th>\n",
       "      <th></th>\n",
       "      <th></th>\n",
       "      <th></th>\n",
       "      <th></th>\n",
       "      <th></th>\n",
       "      <th></th>\n",
       "      <th></th>\n",
       "      <th></th>\n",
       "      <th></th>\n",
       "      <th></th>\n",
       "      <th></th>\n",
       "      <th></th>\n",
       "      <th></th>\n",
       "      <th></th>\n",
       "      <th></th>\n",
       "      <th></th>\n",
       "      <th></th>\n",
       "      <th></th>\n",
       "      <th></th>\n",
       "      <th></th>\n",
       "      <th></th>\n",
       "    </tr>\n",
       "  </thead>\n",
       "  <tbody>\n",
       "    <tr>\n",
       "      <th>2007 Apr</th>\n",
       "      <td>421470.0</td>\n",
       "      <td>36.44</td>\n",
       "      <td>0.012635</td>\n",
       "      <td>9435.0</td>\n",
       "      <td>55207.0</td>\n",
       "      <td>3.888000e+08</td>\n",
       "      <td>1.864000e+08</td>\n",
       "      <td>202400000.0</td>\n",
       "      <td>334300000.0</td>\n",
       "      <td>177400000.0</td>\n",
       "      <td>...</td>\n",
       "      <td>0.0030</td>\n",
       "      <td>0.1607</td>\n",
       "      <td>4680806.0</td>\n",
       "      <td>9000000.0</td>\n",
       "      <td>2308000.0</td>\n",
       "      <td>1491000.0</td>\n",
       "      <td>33965000.0</td>\n",
       "      <td>60300000.0</td>\n",
       "      <td>0.079313</td>\n",
       "      <td>3.890597e+07</td>\n",
       "    </tr>\n",
       "    <tr>\n",
       "      <th>2007 Aug</th>\n",
       "      <td>421470.0</td>\n",
       "      <td>37.07</td>\n",
       "      <td>0.012635</td>\n",
       "      <td>12905.0</td>\n",
       "      <td>55207.0</td>\n",
       "      <td>4.792000e+08</td>\n",
       "      <td>1.981000e+08</td>\n",
       "      <td>281100000.0</td>\n",
       "      <td>334100000.0</td>\n",
       "      <td>202100000.0</td>\n",
       "      <td>...</td>\n",
       "      <td>0.0030</td>\n",
       "      <td>0.1594</td>\n",
       "      <td>5005334.0</td>\n",
       "      <td>9000000.0</td>\n",
       "      <td>2049000.0</td>\n",
       "      <td>1356000.0</td>\n",
       "      <td>33965000.0</td>\n",
       "      <td>55400000.0</td>\n",
       "      <td>0.077169</td>\n",
       "      <td>6.257316e+07</td>\n",
       "    </tr>\n",
       "    <tr>\n",
       "      <th>2007 Dec</th>\n",
       "      <td>421470.0</td>\n",
       "      <td>36.56</td>\n",
       "      <td>0.012635</td>\n",
       "      <td>12036.0</td>\n",
       "      <td>55207.0</td>\n",
       "      <td>9.277000e+08</td>\n",
       "      <td>4.065000e+08</td>\n",
       "      <td>521200000.0</td>\n",
       "      <td>399400000.0</td>\n",
       "      <td>174500000.0</td>\n",
       "      <td>...</td>\n",
       "      <td>0.0030</td>\n",
       "      <td>0.1573</td>\n",
       "      <td>6049660.0</td>\n",
       "      <td>9000000.0</td>\n",
       "      <td>1854000.0</td>\n",
       "      <td>1396000.0</td>\n",
       "      <td>33965000.0</td>\n",
       "      <td>62200000.0</td>\n",
       "      <td>0.077847</td>\n",
       "      <td>4.244041e+07</td>\n",
       "    </tr>\n",
       "    <tr>\n",
       "      <th>2007 Feb</th>\n",
       "      <td>421470.0</td>\n",
       "      <td>36.08</td>\n",
       "      <td>0.012635</td>\n",
       "      <td>8398.0</td>\n",
       "      <td>55207.0</td>\n",
       "      <td>2.677000e+08</td>\n",
       "      <td>1.085000e+08</td>\n",
       "      <td>159200000.0</td>\n",
       "      <td>267600000.0</td>\n",
       "      <td>159200000.0</td>\n",
       "      <td>...</td>\n",
       "      <td>0.0030</td>\n",
       "      <td>0.1556</td>\n",
       "      <td>3776196.0</td>\n",
       "      <td>9000000.0</td>\n",
       "      <td>2052000.0</td>\n",
       "      <td>1486000.0</td>\n",
       "      <td>33965000.0</td>\n",
       "      <td>60600000.0</td>\n",
       "      <td>0.079962</td>\n",
       "      <td>4.354290e+07</td>\n",
       "    </tr>\n",
       "    <tr>\n",
       "      <th>2007 Jan</th>\n",
       "      <td>421470.0</td>\n",
       "      <td>36.16</td>\n",
       "      <td>0.012635</td>\n",
       "      <td>8503.0</td>\n",
       "      <td>55207.0</td>\n",
       "      <td>2.069000e+08</td>\n",
       "      <td>8.050000e+07</td>\n",
       "      <td>126400000.0</td>\n",
       "      <td>249400000.0</td>\n",
       "      <td>138300000.0</td>\n",
       "      <td>...</td>\n",
       "      <td>0.0029</td>\n",
       "      <td>0.1506</td>\n",
       "      <td>3926790.0</td>\n",
       "      <td>9000000.0</td>\n",
       "      <td>1757000.0</td>\n",
       "      <td>1400000.0</td>\n",
       "      <td>33965000.0</td>\n",
       "      <td>70600000.0</td>\n",
       "      <td>0.075162</td>\n",
       "      <td>4.000532e+07</td>\n",
       "    </tr>\n",
       "    <tr>\n",
       "      <th>2017 Mar</th>\n",
       "      <td>899452.0</td>\n",
       "      <td>36.27</td>\n",
       "      <td>0.020721</td>\n",
       "      <td>15517.0</td>\n",
       "      <td>69377.0</td>\n",
       "      <td>1.249757e+09</td>\n",
       "      <td>4.656831e+08</td>\n",
       "      <td>784073437.0</td>\n",
       "      <td>772018656.0</td>\n",
       "      <td>371974212.0</td>\n",
       "      <td>...</td>\n",
       "      <td>0.0012</td>\n",
       "      <td>0.1757</td>\n",
       "      <td>7195604.0</td>\n",
       "      <td>59270710.0</td>\n",
       "      <td>2731621.0</td>\n",
       "      <td>1685000.0</td>\n",
       "      <td>51768000.0</td>\n",
       "      <td>112700000.0</td>\n",
       "      <td>0.077808</td>\n",
       "      <td>9.109488e+07</td>\n",
       "    </tr>\n",
       "    <tr>\n",
       "      <th>2017 May</th>\n",
       "      <td>899728.0</td>\n",
       "      <td>36.36</td>\n",
       "      <td>0.019055</td>\n",
       "      <td>14385.0</td>\n",
       "      <td>68762.0</td>\n",
       "      <td>2.175749e+09</td>\n",
       "      <td>4.089610e+08</td>\n",
       "      <td>385663851.0</td>\n",
       "      <td>936870801.0</td>\n",
       "      <td>399894706.0</td>\n",
       "      <td>...</td>\n",
       "      <td>0.0011</td>\n",
       "      <td>0.1831</td>\n",
       "      <td>8083862.0</td>\n",
       "      <td>79609764.0</td>\n",
       "      <td>2404960.0</td>\n",
       "      <td>1686000.0</td>\n",
       "      <td>40598000.0</td>\n",
       "      <td>87500000.0</td>\n",
       "      <td>0.074695</td>\n",
       "      <td>9.272812e+07</td>\n",
       "    </tr>\n",
       "    <tr>\n",
       "      <th>2017 Nov</th>\n",
       "      <td>899728.0</td>\n",
       "      <td>36.36</td>\n",
       "      <td>0.019055</td>\n",
       "      <td>14385.0</td>\n",
       "      <td>68762.0</td>\n",
       "      <td>2.175749e+09</td>\n",
       "      <td>4.089610e+08</td>\n",
       "      <td>385663851.0</td>\n",
       "      <td>936870801.0</td>\n",
       "      <td>399894706.0</td>\n",
       "      <td>...</td>\n",
       "      <td>0.0011</td>\n",
       "      <td>0.1831</td>\n",
       "      <td>8083862.0</td>\n",
       "      <td>79609764.0</td>\n",
       "      <td>2404960.0</td>\n",
       "      <td>1686000.0</td>\n",
       "      <td>40598000.0</td>\n",
       "      <td>87500000.0</td>\n",
       "      <td>0.074695</td>\n",
       "      <td>9.272812e+07</td>\n",
       "    </tr>\n",
       "    <tr>\n",
       "      <th>2017 Oct</th>\n",
       "      <td>899728.0</td>\n",
       "      <td>36.36</td>\n",
       "      <td>0.019055</td>\n",
       "      <td>12508.0</td>\n",
       "      <td>73065.0</td>\n",
       "      <td>2.175749e+09</td>\n",
       "      <td>6.059982e+08</td>\n",
       "      <td>385663851.0</td>\n",
       "      <td>936870801.0</td>\n",
       "      <td>399894706.0</td>\n",
       "      <td>...</td>\n",
       "      <td>0.0011</td>\n",
       "      <td>0.1831</td>\n",
       "      <td>8083862.0</td>\n",
       "      <td>79609764.0</td>\n",
       "      <td>2404960.0</td>\n",
       "      <td>1686000.0</td>\n",
       "      <td>40598000.0</td>\n",
       "      <td>87500000.0</td>\n",
       "      <td>0.074695</td>\n",
       "      <td>9.272812e+07</td>\n",
       "    </tr>\n",
       "    <tr>\n",
       "      <th>2017 Sep</th>\n",
       "      <td>899728.0</td>\n",
       "      <td>36.36</td>\n",
       "      <td>0.019055</td>\n",
       "      <td>13100.0</td>\n",
       "      <td>73042.0</td>\n",
       "      <td>8.696067e+08</td>\n",
       "      <td>1.634896e+09</td>\n",
       "      <td>263608516.0</td>\n",
       "      <td>769574408.0</td>\n",
       "      <td>297997068.0</td>\n",
       "      <td>...</td>\n",
       "      <td>0.0011</td>\n",
       "      <td>0.1831</td>\n",
       "      <td>8083862.0</td>\n",
       "      <td>69731342.0</td>\n",
       "      <td>2410220.0</td>\n",
       "      <td>1753000.0</td>\n",
       "      <td>52473000.0</td>\n",
       "      <td>117200000.0</td>\n",
       "      <td>0.074695</td>\n",
       "      <td>1.070337e+08</td>\n",
       "    </tr>\n",
       "  </tbody>\n",
       "</table>\n",
       "<p>10 rows × 44 columns</p>\n",
       "</div>"
      ],
      "text/plain": [
       "Measure Name  Average Home Price (City of Toronto)  \\\n",
       "Time                                                 \n",
       "2007 Apr                                  421470.0   \n",
       "2007 Aug                                  421470.0   \n",
       "2007 Dec                                  421470.0   \n",
       "2007 Feb                                  421470.0   \n",
       "2007 Jan                                  421470.0   \n",
       "2017 Mar                                  899452.0   \n",
       "2017 May                                  899728.0   \n",
       "2017 Nov                                  899728.0   \n",
       "2017 Oct                                  899728.0   \n",
       "2017 Sep                                  899728.0   \n",
       "\n",
       "Measure Name  Average Weekly Hours Worked (Toronto Residents)  \\\n",
       "Time                                                            \n",
       "2007 Apr                                                36.44   \n",
       "2007 Aug                                                37.07   \n",
       "2007 Dec                                                36.56   \n",
       "2007 Feb                                                36.08   \n",
       "2007 Jan                                                36.16   \n",
       "2017 Mar                                                36.27   \n",
       "2017 May                                                36.36   \n",
       "2017 Nov                                                36.36   \n",
       "2017 Oct                                                36.36   \n",
       "2017 Sep                                                36.36   \n",
       "\n",
       "Measure Name  CPI - Consumer Price Index - Toronto (% Change)  \\\n",
       "Time                                                            \n",
       "2007 Apr                                             0.012635   \n",
       "2007 Aug                                             0.012635   \n",
       "2007 Dec                                             0.012635   \n",
       "2007 Feb                                             0.012635   \n",
       "2007 Jan                                             0.012635   \n",
       "2017 Mar                                             0.020721   \n",
       "2017 May                                             0.019055   \n",
       "2017 Nov                                             0.019055   \n",
       "2017 Oct                                             0.019055   \n",
       "2017 Sep                                             0.019055   \n",
       "\n",
       "Measure Name  Child Care Number of Children on Wait list for a Child Care Fee Subsidy  \\\n",
       "Time                                                                                    \n",
       "2007 Apr                                                 9435.0                         \n",
       "2007 Aug                                                12905.0                         \n",
       "2007 Dec                                                12036.0                         \n",
       "2007 Feb                                                 8398.0                         \n",
       "2007 Jan                                                 8503.0                         \n",
       "2017 Mar                                                15517.0                         \n",
       "2017 May                                                14385.0                         \n",
       "2017 Nov                                                14385.0                         \n",
       "2017 Oct                                                12508.0                         \n",
       "2017 Sep                                                13100.0                         \n",
       "\n",
       "Measure Name  Child Care Number of Licensed Child Care Spaces   \\\n",
       "Time                                                             \n",
       "2007 Apr                                               55207.0   \n",
       "2007 Aug                                               55207.0   \n",
       "2007 Dec                                               55207.0   \n",
       "2007 Feb                                               55207.0   \n",
       "2007 Jan                                               55207.0   \n",
       "2017 Mar                                               69377.0   \n",
       "2017 May                                               68762.0   \n",
       "2017 Nov                                               68762.0   \n",
       "2017 Oct                                               73065.0   \n",
       "2017 Sep                                               73042.0   \n",
       "\n",
       "Measure Name  Construction Value of Building Applications Received (All Types)  \\\n",
       "Time                                                                             \n",
       "2007 Apr                                           3.888000e+08                  \n",
       "2007 Aug                                           4.792000e+08                  \n",
       "2007 Dec                                           9.277000e+08                  \n",
       "2007 Feb                                           2.677000e+08                  \n",
       "2007 Jan                                           2.069000e+08                  \n",
       "2017 Mar                                           1.249757e+09                  \n",
       "2017 May                                           2.175749e+09                  \n",
       "2017 Nov                                           2.175749e+09                  \n",
       "2017 Oct                                           2.175749e+09                  \n",
       "2017 Sep                                           8.696067e+08                  \n",
       "\n",
       "Measure Name  Construction Value of Building Applications Received (Residential)  \\\n",
       "Time                                                                               \n",
       "2007 Apr                                           1.864000e+08                    \n",
       "2007 Aug                                           1.981000e+08                    \n",
       "2007 Dec                                           4.065000e+08                    \n",
       "2007 Feb                                           1.085000e+08                    \n",
       "2007 Jan                                           8.050000e+07                    \n",
       "2017 Mar                                           4.656831e+08                    \n",
       "2017 May                                           4.089610e+08                    \n",
       "2017 Nov                                           4.089610e+08                    \n",
       "2017 Oct                                           6.059982e+08                    \n",
       "2017 Sep                                           1.634896e+09                    \n",
       "\n",
       "Measure Name  Construction Value of Building Applications Received- Industrial Commercial & Institutional   \\\n",
       "Time                                                                                                         \n",
       "2007 Apr                                            202400000.0                                              \n",
       "2007 Aug                                            281100000.0                                              \n",
       "2007 Dec                                            521200000.0                                              \n",
       "2007 Feb                                            159200000.0                                              \n",
       "2007 Jan                                            126400000.0                                              \n",
       "2017 Mar                                            784073437.0                                              \n",
       "2017 May                                            385663851.0                                              \n",
       "2017 Nov                                            385663851.0                                              \n",
       "2017 Oct                                            385663851.0                                              \n",
       "2017 Sep                                            263608516.0                                              \n",
       "\n",
       "Measure Name  Construction Value of Building Permits Issued (All Types)  \\\n",
       "Time                                                                      \n",
       "2007 Apr                                            334300000.0           \n",
       "2007 Aug                                            334100000.0           \n",
       "2007 Dec                                            399400000.0           \n",
       "2007 Feb                                            267600000.0           \n",
       "2007 Jan                                            249400000.0           \n",
       "2017 Mar                                            772018656.0           \n",
       "2017 May                                            936870801.0           \n",
       "2017 Nov                                            936870801.0           \n",
       "2017 Oct                                            936870801.0           \n",
       "2017 Sep                                            769574408.0           \n",
       "\n",
       "Measure Name  Construction Value of Building Permits Issued (Industrial Commercial & Institutional)  \\\n",
       "Time                                                                                                  \n",
       "2007 Apr                                            177400000.0                                       \n",
       "2007 Aug                                            202100000.0                                       \n",
       "2007 Dec                                            174500000.0                                       \n",
       "2007 Feb                                            159200000.0                                       \n",
       "2007 Jan                                            138300000.0                                       \n",
       "2017 Mar                                            371974212.0                                       \n",
       "2017 May                                            399894706.0                                       \n",
       "2017 Nov                                            399894706.0                                       \n",
       "2017 Oct                                            399894706.0                                       \n",
       "2017 Sep                                            297997068.0                                       \n",
       "\n",
       "Measure Name                      ...                        \\\n",
       "Time                              ...                         \n",
       "2007 Apr                          ...                         \n",
       "2007 Aug                          ...                         \n",
       "2007 Dec                          ...                         \n",
       "2007 Feb                          ...                         \n",
       "2007 Jan                          ...                         \n",
       "2017 Mar                          ...                         \n",
       "2017 May                          ...                         \n",
       "2017 Nov                          ...                         \n",
       "2017 Oct                          ...                         \n",
       "2017 Sep                          ...                         \n",
       "\n",
       "Measure Name  Percentage of Ontario Residential Mortgages (in Arrears 3 months or more)  \\\n",
       "Time                                                                                      \n",
       "2007 Apr                                                 0.0030                           \n",
       "2007 Aug                                                 0.0030                           \n",
       "2007 Dec                                                 0.0030                           \n",
       "2007 Feb                                                 0.0030                           \n",
       "2007 Jan                                                 0.0029                           \n",
       "2017 Mar                                                 0.0012                           \n",
       "2017 May                                                 0.0011                           \n",
       "2017 Nov                                                 0.0011                           \n",
       "2017 Oct                                                 0.0011                           \n",
       "2017 Sep                                                 0.0011                           \n",
       "\n",
       "Measure Name  Percentage who are Self-Employed (Toronto Residents)  \\\n",
       "Time                                                                 \n",
       "2007 Apr                                                 0.1607      \n",
       "2007 Aug                                                 0.1594      \n",
       "2007 Dec                                                 0.1573      \n",
       "2007 Feb                                                 0.1556      \n",
       "2007 Jan                                                 0.1506      \n",
       "2017 Mar                                                 0.1757      \n",
       "2017 May                                                 0.1831      \n",
       "2017 Nov                                                 0.1831      \n",
       "2017 Oct                                                 0.1831      \n",
       "2017 Sep                                                 0.1831      \n",
       "\n",
       "Measure Name  Retail Sales - Toronto CMA (CAD)   \\\n",
       "Time                                              \n",
       "2007 Apr                              4680806.0   \n",
       "2007 Aug                              5005334.0   \n",
       "2007 Dec                              6049660.0   \n",
       "2007 Feb                              3776196.0   \n",
       "2007 Jan                              3926790.0   \n",
       "2017 Mar                              7195604.0   \n",
       "2017 May                              8083862.0   \n",
       "2017 Nov                              8083862.0   \n",
       "2017 Oct                              8083862.0   \n",
       "2017 Sep                              8083862.0   \n",
       "\n",
       "Measure Name  Revenue from Land Transfer Tax  \\\n",
       "Time                                           \n",
       "2007 Apr                           9000000.0   \n",
       "2007 Aug                           9000000.0   \n",
       "2007 Dec                           9000000.0   \n",
       "2007 Feb                           9000000.0   \n",
       "2007 Jan                           9000000.0   \n",
       "2017 Mar                          59270710.0   \n",
       "2017 May                          79609764.0   \n",
       "2017 Nov                          79609764.0   \n",
       "2017 Oct                          79609764.0   \n",
       "2017 Sep                          69731342.0   \n",
       "\n",
       "Measure Name  Revenue from Sale of Recycled Materials  \\\n",
       "Time                                                    \n",
       "2007 Apr                                    2308000.0   \n",
       "2007 Aug                                    2049000.0   \n",
       "2007 Dec                                    1854000.0   \n",
       "2007 Feb                                    2052000.0   \n",
       "2007 Jan                                    1757000.0   \n",
       "2017 Mar                                    2731621.0   \n",
       "2017 May                                    2404960.0   \n",
       "2017 Nov                                    2404960.0   \n",
       "2017 Oct                                    2404960.0   \n",
       "2017 Sep                                    2410220.0   \n",
       "\n",
       "Measure Name  TTC Average Weekday Ridership  TTC Monthly Ridership  \\\n",
       "Time                                                                 \n",
       "2007 Apr                          1491000.0             33965000.0   \n",
       "2007 Aug                          1356000.0             33965000.0   \n",
       "2007 Dec                          1396000.0             33965000.0   \n",
       "2007 Feb                          1486000.0             33965000.0   \n",
       "2007 Jan                          1400000.0             33965000.0   \n",
       "2017 Mar                          1685000.0             51768000.0   \n",
       "2017 May                          1686000.0             40598000.0   \n",
       "2017 Nov                          1686000.0             40598000.0   \n",
       "2017 Oct                          1686000.0             40598000.0   \n",
       "2017 Sep                          1753000.0             52473000.0   \n",
       "\n",
       "Measure Name  TTC Ridership Revenues  Unemployment Rate (Toronto Residents)  \\\n",
       "Time                                                                          \n",
       "2007 Apr                  60300000.0                               0.079313   \n",
       "2007 Aug                  55400000.0                               0.077169   \n",
       "2007 Dec                  62200000.0                               0.077847   \n",
       "2007 Feb                  60600000.0                               0.079962   \n",
       "2007 Jan                  70600000.0                               0.075162   \n",
       "2017 Mar                 112700000.0                               0.077808   \n",
       "2017 May                  87500000.0                               0.074695   \n",
       "2017 Nov                  87500000.0                               0.074695   \n",
       "2017 Oct                  87500000.0                               0.074695   \n",
       "2017 Sep                 117200000.0                               0.074695   \n",
       "\n",
       "Measure Name  Water Revenues Billed for all Water Customers  \n",
       "Time                                                         \n",
       "2007 Apr                                       3.890597e+07  \n",
       "2007 Aug                                       6.257316e+07  \n",
       "2007 Dec                                       4.244041e+07  \n",
       "2007 Feb                                       4.354290e+07  \n",
       "2007 Jan                                       4.000532e+07  \n",
       "2017 Mar                                       9.109488e+07  \n",
       "2017 May                                       9.272812e+07  \n",
       "2017 Nov                                       9.272812e+07  \n",
       "2017 Oct                                       9.272812e+07  \n",
       "2017 Sep                                       1.070337e+08  \n",
       "\n",
       "[10 rows x 44 columns]"
      ]
     },
     "execution_count": 254,
     "metadata": {},
     "output_type": "execute_result"
    }
   ],
   "source": [
    "# Viewing the data\n",
    "pd.concat([df1.head(), df1.tail()])"
   ]
  },
  {
   "cell_type": "markdown",
   "metadata": {},
   "source": [
    "<a id=3></a>"
   ]
  },
  {
   "cell_type": "markdown",
   "metadata": {},
   "source": [
    "# <font color=Red>3. Linear Regression</font>"
   ]
  },
  {
   "cell_type": "markdown",
   "metadata": {},
   "source": [
    "I am trying to see what factors drive the average home price in Toronto"
   ]
  },
  {
   "cell_type": "markdown",
   "metadata": {},
   "source": [
    "## <font color=Blue>3.1. Using 5 Features</font>"
   ]
  },
  {
   "cell_type": "code",
   "execution_count": 235,
   "metadata": {},
   "outputs": [],
   "source": [
    "# Separating labels and features\n",
    "y=df1[\"Average Home Price (City of Toronto)\"]\n",
    "X=df1[[\"Construction Value of Building Applications Received (All Types)\", \n",
    "      \"Construction Value of Building Permits Issued (All Types)\", \n",
    "      \"Interest on Outstanding Property Tax Accounts\", \n",
    "      \"Number of Home Sales (City of Toronto)\", \n",
    "      \"Revenue from Land Transfer Tax\"]]"
   ]
  },
  {
   "cell_type": "code",
   "execution_count": 236,
   "metadata": {},
   "outputs": [],
   "source": [
    "# Allocating train test set\n",
    "X_train, X_test, y_train, y_test = train_test_split(X, y, test_size=0.2)"
   ]
  },
  {
   "cell_type": "code",
   "execution_count": 237,
   "metadata": {},
   "outputs": [
    {
     "data": {
      "text/plain": [
       "LinearRegression(copy_X=True, fit_intercept=True, n_jobs=1, normalize=True)"
      ]
     },
     "execution_count": 237,
     "metadata": {},
     "output_type": "execute_result"
    }
   ],
   "source": [
    "# Instantiating the model\n",
    "lm=LinearRegression(normalize=True)\n",
    "\n",
    "# Fitting train data into model\n",
    "lm.fit(X_train, y_train)"
   ]
  },
  {
   "cell_type": "code",
   "execution_count": 238,
   "metadata": {},
   "outputs": [
    {
     "data": {
      "text/html": [
       "<div>\n",
       "<style>\n",
       "    .dataframe thead tr:only-child th {\n",
       "        text-align: right;\n",
       "    }\n",
       "\n",
       "    .dataframe thead th {\n",
       "        text-align: left;\n",
       "    }\n",
       "\n",
       "    .dataframe tbody tr th {\n",
       "        vertical-align: top;\n",
       "    }\n",
       "</style>\n",
       "<table border=\"1\" class=\"dataframe\">\n",
       "  <thead>\n",
       "    <tr style=\"text-align: right;\">\n",
       "      <th></th>\n",
       "      <th>Coefficient</th>\n",
       "    </tr>\n",
       "    <tr>\n",
       "      <th>Measure Name</th>\n",
       "      <th></th>\n",
       "    </tr>\n",
       "  </thead>\n",
       "  <tbody>\n",
       "    <tr>\n",
       "      <th>Number of Home Sales (City of Toronto)</th>\n",
       "      <td>12.686291</td>\n",
       "    </tr>\n",
       "    <tr>\n",
       "      <th>Revenue from Land Transfer Tax</th>\n",
       "      <td>0.005645</td>\n",
       "    </tr>\n",
       "    <tr>\n",
       "      <th>Construction Value of Building Applications Received (All Types)</th>\n",
       "      <td>0.000025</td>\n",
       "    </tr>\n",
       "    <tr>\n",
       "      <th>Construction Value of Building Permits Issued (All Types)</th>\n",
       "      <td>-0.000023</td>\n",
       "    </tr>\n",
       "    <tr>\n",
       "      <th>Interest on Outstanding Property Tax Accounts</th>\n",
       "      <td>-0.042305</td>\n",
       "    </tr>\n",
       "  </tbody>\n",
       "</table>\n",
       "</div>"
      ],
      "text/plain": [
       "                                                    Coefficient\n",
       "Measure Name                                                   \n",
       "Number of Home Sales (City of Toronto)                12.686291\n",
       "Revenue from Land Transfer Tax                         0.005645\n",
       "Construction Value of Building Applications Rec...     0.000025\n",
       "Construction Value of Building Permits Issued (...    -0.000023\n",
       "Interest on Outstanding Property Tax Accounts         -0.042305"
      ]
     },
     "execution_count": 238,
     "metadata": {},
     "output_type": "execute_result"
    }
   ],
   "source": [
    "coefficients = pd.DataFrame(lm.coef_,X.columns)\n",
    "coefficients.columns = ['Coefficient']\n",
    "coefficients.sort_values(\"Coefficient\", axis=0, ascending=False)[:10]"
   ]
  },
  {
   "cell_type": "code",
   "execution_count": 239,
   "metadata": {},
   "outputs": [],
   "source": [
    "predictions=lm.predict(X_test)"
   ]
  },
  {
   "cell_type": "code",
   "execution_count": 241,
   "metadata": {},
   "outputs": [
    {
     "data": {
      "text/plain": [
       "Text(0,0.5,'Predicted Y')"
      ]
     },
     "execution_count": 241,
     "metadata": {},
     "output_type": "execute_result"
    },
    {
     "data": {
      "image/png": "[encoded data removed]",
      "text/plain": [
       "<matplotlib.figure.Figure at 0x1f6316bc320>"
      ]
     },
     "metadata": {},
     "output_type": "display_data"
    }
   ],
   "source": [
    "plt.scatter(y_test,predictions)\n",
    "plt.plot(y_test,y_test, \"-r\", alpha=.2)\n",
    "plt.xlabel('Y Test')\n",
    "plt.ylabel('Predicted Y')"
   ]
  },
  {
   "cell_type": "code",
   "execution_count": 240,
   "metadata": {},
   "outputs": [
    {
     "name": "stdout",
     "output_type": "stream",
     "text": [
      "R square: 0.6884735008492819\n",
      "RMSE square: 71703.14886157514\n"
     ]
    }
   ],
   "source": [
    "print(\"R square: {}\".format(r2_score(y_test, predictions)))\n",
    "print(\"RMSE square: {}\".format(np.sqrt(metrics.mean_squared_error(y_test, predictions))))\n"
   ]
  },
  {
   "cell_type": "markdown",
   "metadata": {},
   "source": [
    "Weak R squared score and quite the large RMSE."
   ]
  },
  {
   "cell_type": "code",
   "execution_count": 244,
   "metadata": {},
   "outputs": [
    {
     "data": {
      "image/png": "[encoded data removed]",
      "text/plain": [
       "<matplotlib.figure.Figure at 0x1f6312ddb70>"
      ]
     },
     "metadata": {},
     "output_type": "display_data"
    }
   ],
   "source": [
    "fig,ax=plt.subplots()\n",
    "sns.distplot((y_test-predictions),bins=8)\n",
    "ax.set_xlabel(\"Residuals\")\n",
    "ax.set_xlim(-300000,300000)\n",
    "fig.tight_layout()"
   ]
  },
  {
   "cell_type": "markdown",
   "metadata": {},
   "source": [
    "Residuals seems to be rather Normal."
   ]
  },
  {
   "cell_type": "markdown",
   "metadata": {},
   "source": [
    "## <font color=Blue>3.2. Using All Features</font>"
   ]
  },
  {
   "cell_type": "code",
   "execution_count": 258,
   "metadata": {},
   "outputs": [],
   "source": [
    "# Separating labels and features\n",
    "y1=df1[\"Average Home Price (City of Toronto)\"]\n",
    "X1=df1.drop([\"Average Home Price (City of Toronto)\"],axis=1)"
   ]
  },
  {
   "cell_type": "code",
   "execution_count": 259,
   "metadata": {},
   "outputs": [],
   "source": [
    "# Allocating train test set\n",
    "X1_train, X1_test, y1_train, y1_test = train_test_split(X1, y1, test_size=0.2)"
   ]
  },
  {
   "cell_type": "code",
   "execution_count": 260,
   "metadata": {},
   "outputs": [
    {
     "data": {
      "text/plain": [
       "LinearRegression(copy_X=True, fit_intercept=True, n_jobs=1, normalize=True)"
      ]
     },
     "execution_count": 260,
     "metadata": {},
     "output_type": "execute_result"
    }
   ],
   "source": [
    "# Instantiating the model\n",
    "lm=LinearRegression(normalize=True)\n",
    "\n",
    "# Fitting train data into model\n",
    "lm.fit(X1_train, y1_train)"
   ]
  },
  {
   "cell_type": "code",
   "execution_count": 261,
   "metadata": {},
   "outputs": [],
   "source": [
    "predictions1=lm.predict(X1_test)"
   ]
  },
  {
   "cell_type": "code",
   "execution_count": 262,
   "metadata": {
    "scrolled": true
   },
   "outputs": [
    {
     "data": {
      "text/plain": [
       "Text(0,0.5,'Predicted Y')"
      ]
     },
     "execution_count": 262,
     "metadata": {},
     "output_type": "execute_result"
    },
    {
     "data": {
      "image/png": "[encoded data removed]",
      "text/plain": [
       "<matplotlib.figure.Figure at 0x1f6301d7be0>"
      ]
     },
     "metadata": {},
     "output_type": "display_data"
    }
   ],
   "source": [
    "plt.scatter(y1_test,predictions1)\n",
    "plt.plot(y1_test,y1_test, \"-r\", alpha=.2)\n",
    "plt.xlabel('Y Test')\n",
    "plt.ylabel('Predicted Y')"
   ]
  },
  {
   "cell_type": "code",
   "execution_count": 263,
   "metadata": {},
   "outputs": [
    {
     "name": "stdout",
     "output_type": "stream",
     "text": [
      "R square: 0.876481585737167\n",
      "RMSE square: 35910.11767003073\n"
     ]
    }
   ],
   "source": [
    "print(\"R square: {}\".format(r2_score(y1_test, predictions1)))\n",
    "print(\"RMSE square: {}\".format(np.sqrt(metrics.mean_squared_error(y1_test, predictions1))))\n"
   ]
  },
  {
   "cell_type": "markdown",
   "metadata": {},
   "source": [
    "By using more all the features, obviously R squared will increase. It seems RMSE also decreases tremendously by half."
   ]
  },
  {
   "cell_type": "code",
   "execution_count": 265,
   "metadata": {},
   "outputs": [
    {
     "data": {
      "image/png": "[encoded data removed]",
      "text/plain": [
       "<matplotlib.figure.Figure at 0x1f6316a76a0>"
      ]
     },
     "metadata": {},
     "output_type": "display_data"
    }
   ],
   "source": [
    "fig,ax=plt.subplots()\n",
    "sns.distplot((y1_test-predictions1),bins=8)\n",
    "ax.set_xlabel(\"Residuals\")\n",
    "ax.set_xlim(-100000,100000)\n",
    "fig.tight_layout()"
   ]
  },
  {
   "cell_type": "markdown",
   "metadata": {},
   "source": [
    "Residuals seem rather Normal here as well."
   ]
  }
 ],
 "metadata": {
  "kernelspec": {
   "display_name": "Python 3",
   "language": "python",
   "name": "python3"
  },
  "language_info": {
   "codemirror_mode": {
    "name": "ipython",
    "version": 3
   },
   "file_extension": ".py",
   "mimetype": "text/x-python",
   "name": "python",
   "nbconvert_exporter": "python",
   "pygments_lexer": "ipython3",
   "version": "3.6.3"
  }
 },
 "nbformat": 4,
 "nbformat_minor": 2
}
